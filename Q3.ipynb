{
  "nbformat": 4,
  "nbformat_minor": 0,
  "metadata": {
    "colab": {
      "name": "Q3",
      "provenance": [],
      "collapsed_sections": []
    },
    "interpreter": {
      "hash": "b3ba2566441a7c06988d0923437866b63cedc61552a5af99d1f4fb67d367b25f"
    },
    "kernelspec": {
      "display_name": "Python 3.7.6 64-bit ('base': conda)",
      "name": "python3"
    },
    "language_info": {
      "codemirror_mode": {
        "name": "ipython",
        "version": 3
      },
      "file_extension": ".py",
      "mimetype": "text/x-python",
      "name": "python",
      "nbconvert_exporter": "python",
      "pygments_lexer": "ipython3",
      "version": "3.7.6"
    }
  },
  "cells": [
    {
      "cell_type": "markdown",
      "metadata": {
        "id": "wsA5NMu4oqwV"
      },
      "source": [
        "**Q3** [Use only Python] Take the feed-forward network code file FeedForwardNet(Assignment 1).ipynb\n",
        "posted in drive. Check that the code uses simple squared error (SE) and cross entropy (CE) loss\n",
        "functions. Also note that the code currently has support for only the logistic sigmoid activation\n",
        "function. Answer the following:"
      ]
    },
    {
      "cell_type": "markdown",
      "metadata": {
        "id": "meRnMrRlZTH3"
      },
      "source": [
        "# IE 643: Feed Forward Net (Multi-Layered Perceptron) Demo"
      ]
    },
    {
      "cell_type": "markdown",
      "metadata": {
        "id": "lJ13GRM5Hu57"
      },
      "source": [
        "In this demo, we will learn how to build a Multi-layered Perceptron (Feed Forward Nerual Network) model from scratch. There are a lot of libraries available like Pytorch, Keras, Tensorflow etc. which can help you build much complex models in much fewer lines. However before using them, it is important to understand how to build your own neural network from scratch. "
      ]
    },
    {
      "cell_type": "code",
      "metadata": {
        "id": "QT3Suc9U_yq8",
        "scrolled": false
      },
      "source": [
        "import numpy as np\n",
        "import matplotlib.pyplot as plt\n",
        "np.random.seed(0)"
      ],
      "execution_count": 71,
      "outputs": []
    },
    {
      "cell_type": "markdown",
      "metadata": {
        "id": "F1A1MYFw_yrG"
      },
      "source": [
        "## **Data loading and pre-processing**\n",
        "\n",
        "We will be using the MNIST dataset for classification. It contains grayscale images of handwritten digits(0-9) in 28x28 size. Our task is to build a neural network to classify these images. \n",
        "\n",
        "> The MNIST database of handwritten digits has a training set of 60,000 examples, and a test set of 10,000 examples. It is a subset of a larger set available from NIST. The digits have been size-normalized and centered in a fixed-size image.\n",
        "It is a good database for people who want to try learning techniques and pattern recognition methods on real-world data while spending minimal efforts on preprocessing and formatting.\n",
        "\n",
        "Source: http://yann.lecun.com/exdb/mnist/\n",
        "\n",
        "## Loading the dataset:"
      ]
    },
    {
      "cell_type": "code",
      "metadata": {
        "colab": {
          "base_uri": "https://localhost:8080/"
        },
        "id": "suoT0icEE-U5",
        "outputId": "62ba39b8-9a4a-4ca5-cfda-5bc89b6092d5"
      },
      "source": [
        "from keras.datasets import mnist\n",
        "\n",
        "(X_train, Y_train), (X_test, Y_test) = mnist.load_data()\n",
        "print(f'Train: X - {X_train.shape}, y - {Y_train.shape}')\n",
        "print(f'Test: X - {X_test.shape}, y - {Y_test.shape}')"
      ],
      "execution_count": 72,
      "outputs": [
        {
          "output_type": "stream",
          "name": "stdout",
          "text": [
            "Train: X - (60000, 28, 28), y - (60000,)\n",
            "Test: X - (10000, 28, 28), y - (10000,)\n"
          ]
        }
      ]
    },
    {
      "cell_type": "code",
      "metadata": {
        "colab": {
          "base_uri": "https://localhost:8080/"
        },
        "id": "zwkEglRBMsbr",
        "outputId": "dabf4983-397c-4bae-aa52-a2b9ff6e2b15"
      },
      "source": [
        "unique, counts = np.unique(Y_train, return_counts=True)\n",
        "print(np.asarray((unique, counts)).T)"
      ],
      "execution_count": 73,
      "outputs": [
        {
          "output_type": "stream",
          "name": "stdout",
          "text": [
            "[[   0 5923]\n",
            " [   1 6742]\n",
            " [   2 5958]\n",
            " [   3 6131]\n",
            " [   4 5842]\n",
            " [   5 5421]\n",
            " [   6 5918]\n",
            " [   7 6265]\n",
            " [   8 5851]\n",
            " [   9 5949]]\n"
          ]
        }
      ]
    },
    {
      "cell_type": "markdown",
      "metadata": {
        "id": "hitiUqp3AfPm"
      },
      "source": [
        "#### Displaying an image from the dataset"
      ]
    },
    {
      "cell_type": "code",
      "metadata": {
        "colab": {
          "base_uri": "https://localhost:8080/",
          "height": 318
        },
        "id": "zIUooIG--_4f",
        "outputId": "13fbb361-8125-4dea-82a2-00e4068fefc1"
      },
      "source": [
        "plt.imshow(X_train[31],cmap='gray')\n",
        "plt.show()\n",
        "print(f\"\\n\\nLabel in dataset: {Y_train[31]}\")"
      ],
      "execution_count": 52,
      "outputs": [
        {
          "output_type": "display_data",
          "data": {
            "image/png": "[encoded data removed]",
            "text/plain": [
              "<Figure size 432x288 with 1 Axes>"
            ]
          },
          "metadata": {
            "needs_background": "light"
          }
        },
        {
          "output_type": "stream",
          "name": "stdout",
          "text": [
            "\n",
            "\n",
            "Label in dataset: 8\n"
          ]
        }
      ]
    },
    {
      "cell_type": "code",
      "metadata": {
        "colab": {
          "base_uri": "https://localhost:8080/",
          "height": 357
        },
        "id": "U4iknbGdONNR",
        "outputId": "de31cf56-18ab-405b-9035-d9d1527622e3"
      },
      "source": [
        "# Sample images for all digits\n",
        "\n",
        "digits = np.unique(Y_train)\n",
        "M = 30\n",
        "dim = 28\n",
        "fig, axs = plt.subplots(len(digits), M, figsize=(18,6))\n",
        "\n",
        "for i,d in enumerate(digits):\n",
        "    for j in range(M):\n",
        "        axs[i,j].imshow(X_train[Y_train==d][j].reshape((dim,dim)), cmap='gray')\n",
        "        axs[i,j].axis('off')"
      ],
      "execution_count": 53,
      "outputs": [
        {
          "output_type": "display_data",
          "data": {
            "image/png": "[encoded data removed]",
            "text/plain": [
              "<Figure size 1296x432 with 300 Axes>"
            ]
          },
          "metadata": {
            "needs_background": "light"
          }
        }
      ]
    },
    {
      "cell_type": "code",
      "metadata": {
        "colab": {
          "base_uri": "https://localhost:8080/"
        },
        "id": "wpB1-j-MBFyp",
        "outputId": "46fdb083-dfa6-49eb-95c2-1961bad4e1ba"
      },
      "source": [
        "X_train[31]"
      ],
      "execution_count": 74,
      "outputs": [
        {
          "output_type": "execute_result",
          "data": {
            "text/plain": [
              "array([[  0,   0,   0,   0,   0,   0,   0,   0,   0,   0,   0,   0,   0,\n",
              "          0,   0,   0,   0,   0,   0,   0,   0,   0,   0,   0,   0,   0,\n",
              "          0,   0],\n",
              "       [  0,   0,   0,   0,   0,   0,   0,   0,   0,   0,   0,   0,   0,\n",
              "          0,   0,   0,   0,   0,   0,   0,   0,   0,   0,   0,   0,   0,\n",
              "          0,   0],\n",
              "       [  0,   0,   0,   0,   0,   0,   0,   0,   0,   0,   0,   0,   0,\n",
              "          0,   0,   0,   0,   0,   0,   0,   0,   0,   0,   0,   0,   0,\n",
              "          0,   0],\n",
              "       [  0,   0,   0,   0,   0,   0,   0,   0,   0,   0,   0,   0,   0,\n",
              "          0,   0,   0,   0,   0,   0,   0,   0,   0,   0,   0,   0,   0,\n",
              "          0,   0],\n",
              "       [  0,   0,   0,   0,   0,   0,   0,   0,   0,   0,   0,   0,   0,\n",
              "          0,   0,   0,   0,   0,   0,   0,   0,   0,   0,   0,   0,   0,\n",
              "          0,   0],\n",
              "       [  0,   0,   0,   0,   0,   0,   0,   0,   0,   0,   0,   0,   0,\n",
              "         42, 154, 180, 255, 176, 118, 118,  16,   0,   0,   0,   0,   0,\n",
              "          0,   0],\n",
              "       [  0,   0,   0,   0,   0,   0,   0,   0,   0,   0,   0,   0,   0,\n",
              "        142, 253, 253, 253, 253, 253, 253, 236, 103,   0,   0,   0,   0,\n",
              "          0,   0],\n",
              "       [  0,   0,   0,   0,   0,   0,   0,   0,   0,   0,   0,   0,   0,\n",
              "        227, 253, 253, 204, 177, 177, 177, 243, 191,   0,   0,   0,   0,\n",
              "          0,   0],\n",
              "       [  0,   0,   0,   0,   0,   0,   0,   0,   0,   0,   0,   0,   0,\n",
              "        227, 253, 216,  22,   0,   0,  23, 227, 238,  96,  21,   0,   0,\n",
              "          0,   0],\n",
              "       [  0,   0,   0,   0,   0,   0,   0,   0,   0,   0,   0,   0,   0,\n",
              "        227, 253, 205,   0,   0,  17, 124, 253, 253, 253, 170,   0,   0,\n",
              "          0,   0],\n",
              "       [  0,   0,   0,   0,   0,   0,   0,   0,   0,   0,   0,   0,   0,\n",
              "        227, 253, 234,  62,  18, 201, 253, 253, 253, 251,  90,   0,   0,\n",
              "          0,   0],\n",
              "       [  0,   0,   0,   0,   0,   0,   0,   0,   0,   0,   0,   0,   0,\n",
              "        227, 253, 253, 253, 253, 253, 253, 253, 221, 103,   0,   0,   0,\n",
              "          0,   0],\n",
              "       [  0,   0,   0,   0,   0,   0,   0,   0,   0,   0,   0,   0,   0,\n",
              "        227, 253, 253, 253, 253, 253, 208,  24,   5,   0,   0,   0,   0,\n",
              "          0,   0],\n",
              "       [  0,   0,   0,   0,   0,   0,   0,   0,   0,   0,   0,   0,  39,\n",
              "        236, 253, 253, 253, 251,  97,  16,   0,   0,   0,   0,   0,   0,\n",
              "          0,   0],\n",
              "       [  0,   0,   0,   0,   0,   0,   0,   0,   0,   0,   4,  69, 224,\n",
              "        253, 253, 240, 169,  46,   0,   0,   0,   0,   0,   0,   0,   0,\n",
              "          0,   0],\n",
              "       [  0,   0,   0,   0,   0,   0,   0,   0,   0,  33, 134, 253, 253,\n",
              "        253, 253, 105,   0,   0,   0,   0,   0,   0,   0,   0,   0,   0,\n",
              "          0,   0],\n",
              "       [  0,   0,   0,   0,   0,   0,   0,   0,  51, 225, 253, 253, 253,\n",
              "        253, 253,  68,   0,   0,   0,   0,   0,   0,   0,   0,   0,   0,\n",
              "          0,   0],\n",
              "       [  0,   0,   0,   0,   0,   0,   0,  48, 227, 253, 253, 250, 174,\n",
              "        253, 253,  68,   0,   0,   0,   0,   0,   0,   0,   0,   0,   0,\n",
              "          0,   0],\n",
              "       [  0,   0,   0,   0,   0,   0,   0, 213, 253, 253, 179,  63, 111,\n",
              "        253, 253,  68,   0,   0,   0,   0,   0,   0,   0,   0,   0,   0,\n",
              "          0,   0],\n",
              "       [  0,   0,   0,   0,   0,   0,  92, 251, 201,  13,   5,   0, 166,\n",
              "        253, 253,  68,   0,   0,   0,   0,   0,   0,   0,   0,   0,   0,\n",
              "          0,   0],\n",
              "       [  0,   0,   0,   0,   0,  39, 222, 253, 198,   0,   0,   0, 248,\n",
              "        253, 231,  46,   0,   0,   0,   0,   0,   0,   0,   0,   0,   0,\n",
              "          0,   0],\n",
              "       [  0,   0,   0,   0,   0,  54, 243, 253, 124,   0,  38, 133, 252,\n",
              "        253, 150,   0,   0,   0,   0,   0,   0,   0,   0,   0,   0,   0,\n",
              "          0,   0],\n",
              "       [  0,   0,   0,   0,   0, 118, 253, 253, 237, 179, 223, 253, 253,\n",
              "        190,  14,   0,   0,   0,   0,   0,   0,   0,   0,   0,   0,   0,\n",
              "          0,   0],\n",
              "       [  0,   0,   0,   0,   0,  44, 230, 253, 253, 253, 253, 253, 244,\n",
              "         76,   0,   0,   0,   0,   0,   0,   0,   0,   0,   0,   0,   0,\n",
              "          0,   0],\n",
              "       [  0,   0,   0,   0,   0,   0,  45, 231, 253, 253, 253, 182,  66,\n",
              "          0,   0,   0,   0,   0,   0,   0,   0,   0,   0,   0,   0,   0,\n",
              "          0,   0],\n",
              "       [  0,   0,   0,   0,   0,   0,   0,   0,   0,   0,   0,   0,   0,\n",
              "          0,   0,   0,   0,   0,   0,   0,   0,   0,   0,   0,   0,   0,\n",
              "          0,   0],\n",
              "       [  0,   0,   0,   0,   0,   0,   0,   0,   0,   0,   0,   0,   0,\n",
              "          0,   0,   0,   0,   0,   0,   0,   0,   0,   0,   0,   0,   0,\n",
              "          0,   0],\n",
              "       [  0,   0,   0,   0,   0,   0,   0,   0,   0,   0,   0,   0,   0,\n",
              "          0,   0,   0,   0,   0,   0,   0,   0,   0,   0,   0,   0,   0,\n",
              "          0,   0]], dtype=uint8)"
            ]
          },
          "metadata": {},
          "execution_count": 74
        }
      ]
    },
    {
      "cell_type": "markdown",
      "metadata": {
        "id": "IHJuvR7aJdR7"
      },
      "source": [
        "As you can see here, each image is a (28x28) 2d numpy array and hence contains 784 individual pixel values (in grayscale)."
      ]
    },
    {
      "cell_type": "code",
      "metadata": {
        "colab": {
          "base_uri": "https://localhost:8080/"
        },
        "id": "kI8TlS3XG0tT",
        "outputId": "a17b7aa1-c681-4895-a756-f4ddf3955cde"
      },
      "source": [
        "# flattening single example \n",
        "example = X_train[31].reshape((-1))\n",
        "print(type(example))\n",
        "print(\"Shape:\", example.shape)"
      ],
      "execution_count": 75,
      "outputs": [
        {
          "output_type": "stream",
          "name": "stdout",
          "text": [
            "<class 'numpy.ndarray'>\n",
            "Shape: (784,)\n"
          ]
        }
      ]
    },
    {
      "cell_type": "markdown",
      "metadata": {
        "id": "UcJGFAPB_yrQ"
      },
      "source": [
        "##Pre-processing:\n",
        "\n",
        "**Flattening the input values:**\n",
        "Since we are using a simple Feed-forward Nerual Network, it's better to convert each input from a 2D array to a 1D array. This process is called flattening. "
      ]
    },
    {
      "cell_type": "code",
      "metadata": {
        "colab": {
          "base_uri": "https://localhost:8080/"
        },
        "id": "0N84EzhtH__R",
        "outputId": "2dd61194-a067-4397-9cd5-99f5292569c7"
      },
      "source": [
        "# flattening the input\n",
        "\n",
        "X_train_flattened = X_train.reshape((X_train.shape[0], -1))\n",
        "X_test_flattened = X_test.reshape((X_test.shape[0], -1))\n",
        "\n",
        "print(f\"Shapes - Train: {X_train_flattened.shape}, Test: {X_test_flattened.shape}\")"
      ],
      "execution_count": 76,
      "outputs": [
        {
          "output_type": "stream",
          "name": "stdout",
          "text": [
            "Shapes - Train: (60000, 784), Test: (10000, 784)\n"
          ]
        }
      ]
    },
    {
      "cell_type": "markdown",
      "metadata": {
        "id": "rTqzd3CfJ-Pb"
      },
      "source": [
        "**Normalizing input values:**\n",
        "\n",
        "We often need to normalize the input values into a convinient range. Let us see what is the current range of pixel values:"
      ]
    },
    {
      "cell_type": "code",
      "metadata": {
        "colab": {
          "base_uri": "https://localhost:8080/"
        },
        "id": "nXobob1BIiyK",
        "outputId": "8d982fba-a345-47cf-cb2a-682537578d2f"
      },
      "source": [
        "print(\"Minimum pixel value =\", X_train_flattened.min())\n",
        "print(\"Maximum pixel value =\", X_train_flattened.max())"
      ],
      "execution_count": 77,
      "outputs": [
        {
          "output_type": "stream",
          "name": "stdout",
          "text": [
            "Minimum pixel value = 0\n",
            "Maximum pixel value = 255\n"
          ]
        }
      ]
    },
    {
      "cell_type": "markdown",
      "metadata": {
        "id": "d8-YU_AvKUnr"
      },
      "source": [
        "So it turns out that the pixel values are in the standard grayscale range **0-255** (in some datasets it can differ. For e.g., in the 'digits' dataset, the range is 0-16)\n",
        "\n",
        "We want to normalize the input such that each value lies in the (0,1) range. Hence we will divide each of the input values by 255. This will not affect the nature of input."
      ]
    },
    {
      "cell_type": "markdown",
      "metadata": {
        "id": "1J2Z_A8cSYFl"
      },
      "source": [
        "**Normalizing the dataset:** "
      ]
    },
    {
      "cell_type": "code",
      "metadata": {
        "colab": {
          "base_uri": "https://localhost:8080/"
        },
        "id": "Eav9JO6PREKz",
        "outputId": "3ea1ac77-3ed9-4f5f-8b5a-19ba8ea70f44"
      },
      "source": [
        "X_normalized_train = np.round(X_train_flattened/255, 3)\n",
        "X_normalized_test = np.round(X_test_flattened/255, 3)\n",
        "\n",
        "print(\"Minimum pixel value =\", X_normalized_train.min())\n",
        "print(\"Maximum pixel value =\", X_normalized_train.max())"
      ],
      "execution_count": 78,
      "outputs": [
        {
          "output_type": "stream",
          "name": "stdout",
          "text": [
            "Minimum pixel value = 0.0\n",
            "Maximum pixel value = 1.0\n"
          ]
        }
      ]
    },
    {
      "cell_type": "code",
      "metadata": {
        "colab": {
          "base_uri": "https://localhost:8080/",
          "height": 265
        },
        "id": "M1BjaZDWDqpQ",
        "outputId": "62e6eba8-08f9-4d52-9b99-8c96d39d3673"
      },
      "source": [
        "# normalized and flattened data can still be visualized as original data\n",
        "plt.imshow(X_normalized_train[31].reshape(28,28), cmap='gray')\n",
        "plt.show()"
      ],
      "execution_count": 79,
      "outputs": [
        {
          "output_type": "display_data",
          "data": {
            "image/png": "[encoded data removed]",
            "text/plain": [
              "<Figure size 432x288 with 1 Axes>"
            ]
          },
          "metadata": {
            "needs_background": "light"
          }
        }
      ]
    },
    {
      "cell_type": "markdown",
      "metadata": {
        "id": "faIzHnDYVOgn"
      },
      "source": [
        "As you can see, normalizing doesn't affect the nature of image. It all depends on the relative values. So now we will use this flattened input layer and proceed for the next step."
      ]
    },
    {
      "cell_type": "markdown",
      "metadata": {
        "id": "pMvyqMAi_yrl"
      },
      "source": [
        "##Creating datasets for binary and multi-class Classification:\n",
        "\n",
        "We will have a look at two problems. First one is binary classification, whereas second one is a multiclass classification problem."
      ]
    },
    {
      "cell_type": "markdown",
      "metadata": {
        "id": "YIxeICYNVqpc"
      },
      "source": [
        "###**Binary Classification problem:**\n",
        "\n",
        "MNIST has 10 different target classes, each representing one of the digits from 0-9. Let's consider digit '**0**' and digit '**6**'. Let's extract these inputs from the original dataset."
      ]
    },
    {
      "cell_type": "markdown",
      "metadata": {
        "id": "jffSkJI_g1Ey"
      },
      "source": [
        "**Creating the subsets:**"
      ]
    },
    {
      "cell_type": "code",
      "metadata": {
        "colab": {
          "base_uri": "https://localhost:8080/"
        },
        "id": "7111D1S4VpGG",
        "outputId": "436e1868-15c2-4397-cb09-fee50a575d3b"
      },
      "source": [
        "train_idx = np.where((Y_train==0) | (Y_train==6))\n",
        "X_train_bin = X_normalized_train[train_idx]\n",
        "Y_train_bin = Y_train[train_idx]\n",
        "\n",
        "test_idx = np.where((Y_test==0) | (Y_test==6))\n",
        "X_test_bin = X_normalized_test[test_idx]\n",
        "Y_test_bin = Y_test[test_idx]\n",
        "\n",
        "print(f'Trainset shapes - X: {X_train_bin.shape}, Y: {Y_train_bin.shape}')\n",
        "print(f'Testset shapes - X: {X_test_bin.shape}, Y: {Y_test_bin.shape}')\n",
        "\n",
        "print(f'\\nTrain statistics - 0: {(Y_train_bin==0).sum()}, 6: {(Y_train_bin==6).sum()}')\n",
        "print(f'Test statistics - 0: {(Y_test_bin==0).sum()}, 6: {(Y_test_bin==6).sum()}')"
      ],
      "execution_count": 80,
      "outputs": [
        {
          "output_type": "stream",
          "name": "stdout",
          "text": [
            "Trainset shapes - X: (11841, 784), Y: (11841,)\n",
            "Testset shapes - X: (1938, 784), Y: (1938,)\n",
            "\n",
            "Train statistics - 0: 5923, 6: 5918\n",
            "Test statistics - 0: 980, 6: 958\n"
          ]
        }
      ]
    },
    {
      "cell_type": "code",
      "metadata": {
        "id": "ng61OK6hHZla"
      },
      "source": [
        "# Setting label of class 6 to 1 for binary classification problem\n",
        "\n",
        "Y_train_bin[Y_train_bin==6] = 1 \n",
        "Y_test_bin[Y_test_bin==6] = 1 "
      ],
      "execution_count": 81,
      "outputs": []
    },
    {
      "cell_type": "markdown",
      "metadata": {
        "id": "-CI4qkMSYsTO"
      },
      "source": [
        "We now have only 0s and 6s in the newly created subsets. Also number of 0s and 6s is quite even. So we can say that the dataset is quite evenly balanced. In practical situations, often it's the opposite and we need to implement different techniques to balance it. "
      ]
    },
    {
      "cell_type": "markdown",
      "metadata": {
        "id": "kMWxxCpnZLfH"
      },
      "source": [
        "**Splitting the training dataset:**\n",
        "\n",
        "Often it is observed that training the model for a large number of epochs leads to overfitting. To avoid this problem, we need a validation dataset to keep track of the 'validation accuracy'. Hence now we will split the current training dataset (of 11841 instances) into a training set and a validation set."
      ]
    },
    {
      "cell_type": "code",
      "metadata": {
        "id": "hvoYIMvKX6sd"
      },
      "source": [
        "from sklearn.model_selection import train_test_split"
      ],
      "execution_count": 82,
      "outputs": []
    },
    {
      "cell_type": "markdown",
      "metadata": {
        "id": "rTtGk-4sbSxW"
      },
      "source": [
        "(Even though the function name says train_test_split, you can use it for validation dataset or any kind of split in general)"
      ]
    },
    {
      "cell_type": "markdown",
      "metadata": {
        "id": "0Ju8BK8PdcCG"
      },
      "source": [
        "We are splitting the old training dataset here. In practice, people consider splits like 90-10, 80-20, 67-33 etc. You can chose your own value. It's always a tradeoff. If validation dataset is too small, it may not reflect the best results in terms of validation accuracy. On the other hand, taking a large chunk for validation part may result in loss of some info while training.\n",
        "\n",
        "We will go with 80-20 spllit for now."
      ]
    },
    {
      "cell_type": "code",
      "metadata": {
        "id": "V9slDYMrbh53"
      },
      "source": [
        "X_train_bin, X_val_bin, Y_train_bin, Y_val_bin = train_test_split(X_train_bin, Y_train_bin, test_size=0.2, random_state = 1)"
      ],
      "execution_count": 83,
      "outputs": []
    },
    {
      "cell_type": "markdown",
      "metadata": {
        "id": "t1XjdyI1dHcn"
      },
      "source": [
        ""
      ]
    },
    {
      "cell_type": "code",
      "metadata": {
        "colab": {
          "base_uri": "https://localhost:8080/"
        },
        "id": "y0mWgtbYcmug",
        "outputId": "07334b03-5194-426f-b6de-fa1749bf54ed"
      },
      "source": [
        "print(\"Instances in new train-set:\", len(Y_train_bin))\n",
        "print(\"Instances in val-set:\", len(Y_val_bin))\n",
        "print(\"\\nCount of 0s and 6s in train-set:\", (Y_train_bin==0).sum(), (Y_train_bin==1).sum())\n",
        "print(\"Count of 0s and 6s in val-set:\", (Y_val_bin==0).sum(), (Y_val_bin==1).sum())"
      ],
      "execution_count": 84,
      "outputs": [
        {
          "output_type": "stream",
          "name": "stdout",
          "text": [
            "Instances in new train-set: 9472\n",
            "Instances in val-set: 2369\n",
            "\n",
            "Count of 0s and 6s in train-set: 4724 4748\n",
            "Count of 0s and 6s in val-set: 1199 1170\n"
          ]
        }
      ]
    },
    {
      "cell_type": "code",
      "metadata": {
        "colab": {
          "base_uri": "https://localhost:8080/"
        },
        "id": "PlFCGFISpDmD",
        "outputId": "867b54d9-8cef-4511-a313-a8da407a7638"
      },
      "source": [
        "# Traspose feature matrices as per our model requirement\n",
        "\n",
        "X_train_bin, X_val_bin, X_test_bin = X_train_bin.T, X_val_bin.T, X_test_bin.T\n",
        "print(f'Shapes - {X_train_bin.shape, X_val_bin.shape, X_test_bin.shape}')"
      ],
      "execution_count": 85,
      "outputs": [
        {
          "output_type": "stream",
          "name": "stdout",
          "text": [
            "Shapes - ((784, 9472), (784, 2369), (784, 1938))\n"
          ]
        }
      ]
    },
    {
      "cell_type": "markdown",
      "metadata": {
        "id": "JMDaMVykdwuv"
      },
      "source": [
        "It's important to know that the split function has an argument **shuffle** which is **True** by default. It means that your data is shuffled before splitting. If you are using a custom method to split, keep this in mind!\n",
        "\n",
        "Also we are using a **random_state** parameter to ensure the same split at each run. It's not necessary to use in practice unless you want to do experiments with the same split.\n",
        "\n",
        "Let's get to our model:\n"
      ]
    },
    {
      "cell_type": "markdown",
      "metadata": {
        "id": "b6Ag1ws0Im_N"
      },
      "source": [
        "## Building the Neural Net class: "
      ]
    },
    {
      "cell_type": "code",
      "metadata": {
        "id": "aNupsKfm_yq-",
        "scrolled": false
      },
      "source": [
        "class Neural_Network():\n",
        "    def __init__(self, neurons, Activations, initialization='randn'):\n",
        "        \"\"\"Define the NN design parameters\n",
        "        Args:\n",
        "            neurons (int array): list of numbers listing neurons for each layer\n",
        "            Activations (str array): list of activations to be used for hidden and output layers\n",
        "            initialization (str, optional): Choose weight initialization from\n",
        "             uniform or normal distribution. Defaults to 'randn'.\n",
        "        \"\"\"\n",
        "        \n",
        "        self.inputSize = neurons[0] # Number of neurons in input layer\n",
        "        self.outputSize = neurons[-1] # Number of neurons in output layer\n",
        "        self.layers = len(neurons)\n",
        "        self.weights = [] # weights for each layer\n",
        "        self.biases = [] # biases in each layer \n",
        "        self.layer_activations = [] # activations in each layer\n",
        "        # self.loss = self.lossSE\n",
        "        if initialization == 'rand':\n",
        "            self.initializer = np.random.rand\n",
        "        elif initialization == 'randn':\n",
        "            self.initializer = np.random.randn\n",
        "        else:\n",
        "            raise ValueError(\"initialization must be 'rand' or 'randn'\")\n",
        "        for i in range(len(neurons)-1):\n",
        "            self.weights.append(self.initializer(neurons[i+1],neurons[i])) # weight matrix between layer i and layer i+1\n",
        "            self.biases.append(self.initializer(neurons[i+1],1))\n",
        "            self.layer_activations.append(Activations[i]) # activations for each layer\n",
        "        \n",
        "            \n",
        "    def sigmoid(self, z):\n",
        "        \"\"\"returns result of the sigmoid activation function on input z.\"\"\"                 \n",
        "        return 1.0/(1.0+np.exp(-z))\n",
        "    \n",
        "    def sigmoidPrime(self,z):\n",
        "        \"\"\"returns derivative of sigmoid activation function applied on input z.\"\"\"\n",
        "        return self.sigmoid(z)*(1-self.sigmoid(z))\n",
        "\n",
        "     # Q3(a)                     \n",
        "    def tanh(self, z):\n",
        "        \"\"\"returns result of the hyperbolic tan activation function on input z.\"\"\"\n",
        "        temp = np.exp(2*z)\n",
        "        return (temp-1)/(temp+1) # avoids using np.exp() twice\n",
        "    \n",
        "    def tanhPrime(self,x):\n",
        "        \"\"\"returns derivative of hyperbolic tan activation function applied on input z.\"\"\"\n",
        "        return 1-self.tanh(x)**2\n",
        "\n",
        "     # Q3(b)                     \n",
        "    def linear(self, z):\n",
        "        \"\"\"returns result of the linear activation function on input z.\"\"\"                                    \n",
        "        return z\n",
        "    \n",
        "    def linearPrime(self,z):\n",
        "        \"\"\"returns derivative of linear activation function applied on input z.\"\"\"                                                      \n",
        "        return np.ones(z.shape)\n",
        "\n",
        "    # Q3(c)\n",
        "    def ReLU(self,z):\n",
        "        \"\"\"returns result of the ReLU activation function on input z.\"\"\"                  \n",
        "        return np.maximum(0,z)\n",
        "    \n",
        "    def ReLUPrime(self,z):\n",
        "        \"\"\"returns derivative of ReLU activation function applied on input z.\"\"\"\n",
        "        return 1*(z>0)\n",
        "    \n",
        "    def softmax(self, z):\n",
        "        \"\"\"returns result of the softmax activation function on input z.\"\"\"\n",
        "        return np.exp(z)/np.sum(np.exp(z), axis=0)\n",
        "    \n",
        "    def lossSE(self, predicted, actual):\n",
        "        \"\"\"Implementation of Squared-error loss function.\"\"\"\n",
        "        return np.mean(0.5*(predicted-actual)**2)\n",
        "    \n",
        "    def lossCE(self, predicted, actual):\n",
        "        \"\"\"Implementation of Cross-Entropy loss function.\"\"\"\n",
        "        return (-1 / actual.shape[1]) * np.sum(np.multiply(actual, np.log(predicted)))\n",
        "    \n",
        "    def forward(self, a):\n",
        "        \"\"\"Defines forward pass of the NN\n",
        "\n",
        "        Args:\n",
        "            a (array): input of size self.inputSize\n",
        "\n",
        "        Returns:\n",
        "            a (array): output of the forward pass\n",
        "            layer_dot_prod_z (list): layerwise intermediate outputs\n",
        "            layer_activations_a (list): layerwise activations\n",
        "        \"\"\"\n",
        "\n",
        "        layer_activations_a = [a] # store the input as the input layer activations\n",
        "        layer_dot_prod_z = []\n",
        "        for i, param in enumerate(zip(self.biases, self.weights)):\n",
        "            b, w = param[0], param[1]\n",
        "            z = np.dot(w, a)+b\n",
        "            if self.layer_activations[i].lower()=='sigmoid':\n",
        "                a = self.sigmoid(z)\n",
        "            elif self.layer_activations[i].lower()=='relu':\n",
        "                a = self.ReLU(z)\n",
        "            elif self.layer_activations[i].lower()=='tanh':   \n",
        "                a = self.tanh(z)\n",
        "            elif self.layer_activations[i].lower()=='linear':\n",
        "                a = self.linear(z)\n",
        "            elif self.layer_activations[i].lower()=='softmax':\n",
        "                a = self.softmax(z)\n",
        "            layer_dot_prod_z.append(z)    \n",
        "            layer_activations_a.append(a)\n",
        "        return a, layer_dot_prod_z, layer_activations_a\n",
        "                          \n",
        "    def backward(self, x, y, zs, activations):\n",
        "        \"\"\"backward pass to calculate gradient of loss w.r.t. NN parameters\n",
        "\n",
        "        Args:\n",
        "            x (array): input\n",
        "            y (array): ouputs from forward pass\n",
        "            zs (list): layerwise intermediate outputs from forward pass\n",
        "            activations (list): layerwise activations from forward pass\n",
        "\n",
        "        Returns:\n",
        "            [tuple]: gradients with respect to bias and weight parameters respectively\n",
        "        \"\"\"\n",
        "        \n",
        "        grad_b = [np.zeros(b.shape) for b in self.biases]\n",
        "        grad_w = [np.zeros(w.shape) for w in self.weights]\n",
        "        \n",
        "        #TODO: Implement the backpropagation steps here\n",
        "        m = zs[-1].shape[1]\n",
        "        if self.layer_activations[-1].lower()=='sigmoid':\n",
        "            delta = (activations[-1] - y) *\\\n",
        "            self.sigmoidPrime(zs[-1])\n",
        "        elif self.layer_activations[-1].lower()=='relu':\n",
        "            delta = (activations[-1] - y) *\\\n",
        "            self.ReLUPrime(zs[-1])\n",
        "        elif self.layer_activations[-1].lower()=='tanh':   \n",
        "            delta = (activations[-1] - y) *\\\n",
        "            self.tanhPrime(zs[-1])\n",
        "        elif self.layer_activations[-1].lower()=='linear':\n",
        "            delta = (activations[-1] - y) *\\\n",
        "            self.linearPrime(zs[-1])\n",
        "        elif self.layer_activations[-1].lower()=='softmax':\n",
        "            delta = (activations[-1] - y)\n",
        "        \n",
        "        grad_b[-1] = np.sum(delta, axis=1, keepdims=True)/m\n",
        "        grad_w[-1] = np.dot(delta, activations[-2].T)/m\n",
        "\n",
        "        for l in range(2, self.layers):\n",
        "            z = zs[-l]\n",
        "            if self.layer_activations[-l].lower()=='sigmoid':\n",
        "              prime = self.sigmoidPrime(z)\n",
        "            elif self.layer_activations[-l].lower()=='relu':\n",
        "              prime = self.ReLUPrime(z)\n",
        "            elif self.layer_activations[-l].lower()=='tanh':   \n",
        "              prime = self.tanhPrime(z)\n",
        "            elif self.layer_activations[-l].lower()=='linear':\n",
        "              prime = self.linearPrime(z)\n",
        "          \n",
        "            delta = prime * np.dot(self.weights[-l+1].T, delta)\n",
        "            grad_b[-l] = np.sum(delta, axis=1, keepdims=True)/m\n",
        "            grad_w[-l] = np.dot(delta, activations[-1-l].T)/m\n",
        "\n",
        "        return (grad_b, grad_w)                 \n",
        "\n",
        "    def update_parameters(self, grads, lr):\n",
        "        \"\"\"update the NN parameters using the gradients\n",
        "\n",
        "        Args:\n",
        "            grads (list): gradients obtained from backward pass\n",
        "            lr (float): learning rate of NN\n",
        "        \"\"\"\n",
        "        \n",
        "        grad_b, grad_w = grads[0], grads[1]\n",
        "\n",
        "        #implement the update steps here\n",
        "        for i in range(len(self.weights)):\n",
        "          self.weights[i] -= lr*grad_w[i]\n",
        "        for i in range(len(self.biases)):\n",
        "          self.biases[i] -= lr*grad_b[i]\n",
        "\n",
        "    def error(self, X, Y, errors):  \n",
        "        \"\"\"Appends loss to error list\"\"\"\n",
        "        y = np.squeeze(self.forward(X)[0])\n",
        "        errors.append(self.loss(y, Y))\n",
        "\n",
        "    def copy_params(self):\n",
        "        \"\"\"Returns a copy of current NN parameters\"\"\"\n",
        "        weights = [w.copy() for w in self.weights]\n",
        "        biases = [b.copy() for b in self.biases]\n",
        "        return (weights, biases)\n",
        "                     \n",
        "    def train(self, X, Y, lr = 1e-3, max_epochs = 1000, patience=20, batch_size = None,\n",
        "              n_classes=10, onehotencoded=False, loss_func='SE', Xval=None, Yval=None, verbose=True):\n",
        "        \"\"\"Function for training our Neural Network\n",
        "\n",
        "        Args:\n",
        "            X (ndarray): feature matrix of training data,\n",
        "             Shape: (n,m) where n is no. of features and m is no. of samples.\n",
        "            Y (ndarray): ground truth of training data, NOT one-hot-encoded. Shape: (1,m).\n",
        "            lr (float or function, optional): constant learning rate or scheduler function.\n",
        "             Defaults to 1e-3 constant lr.\n",
        "            max_epochs (int, optional): epoch cap for training. Defaults to 1000.\n",
        "            patience (int, optional): patience parameter for early stopping. Defaults to 5.\n",
        "            batch_size (int, optional): mini-batch size. Defaults to full-batch GD if not provided.\n",
        "            n_classes (int, optional): no. of classes for multi-class classification required if\n",
        "            one-hot encoding is set to True. Defaults to 10.\n",
        "            onehotencoded (bool, optional): Defaults to False.\n",
        "            loss_func (str, optional): Choose from 'SE' and 'CE' loss functions. Defaults to 'SE'.\n",
        "            Xval (ndarray, optional): Validation data feature matrix. Defaults to None.\n",
        "            Yval (ndarray, optional): Validation data ground truth. Defaults to None.\n",
        "            verbose (bool, optional): If True, displays logs and progress of training. Defaults to True.\n",
        "\n",
        "        Returns:\n",
        "            [list/tuple]: lists of train-set and validation-set losses seen over the traning process.\n",
        "        \"\"\"\n",
        "        \n",
        "        if onehotencoded:\n",
        "            # a method for creating one hot encoded labels \n",
        "            def onehotencoding(Y, n):\n",
        "                # one-hot encoding of class i is just the ith column of the identity \n",
        "                # matrix of size n where n is the total number of classes. so below \n",
        "                # code uses Y (a 1d array) for indexing into the identity matrix.\n",
        "                return np.eye(n)[Y].T\n",
        "\n",
        "            Y = onehotencoding(Y, n_classes)\n",
        "            if Yval is not None:\n",
        "                Yval = onehotencoding(Yval, n_classes)\n",
        "\n",
        "        # Below code ensures that Y is 2-dimensional even when one-hot encoding is not\n",
        "        # performed, so our same code works for training NN for both tasks.  \n",
        "        Y = np.expand_dims(Y,0) if len(Y.shape) == 1 else Y\n",
        "        Yval = np.expand_dims(Yval,0) if (Yval is not None and len(Yval.shape) == 1) else Yval\n",
        "        \n",
        "        if loss_func == 'SE':\n",
        "            self.loss = self.lossSE\n",
        "        elif loss_func == 'CE':\n",
        "            self.loss = self.lossCE\n",
        "            \n",
        "        train_errors=[]\n",
        "        if Xval is not None:\n",
        "            val_errors=[]\n",
        "        i, j, v = 0, 0, np.inf\n",
        "        best_params = self.copy_params()\n",
        "        \n",
        "        if batch_size is not None:\n",
        "            if batch_size > len(X[0]):\n",
        "                raise ValueError(\"invalid mini-batch size. Must be smaller than dataset length\")\n",
        "        else:\n",
        "            batch_size = len(X[0])\n",
        "            \n",
        "        \n",
        "        while j < patience:\n",
        "\n",
        "            # Shuffle Dataset\n",
        "            idx = np.arange(len(X[0]))\n",
        "            np.random.shuffle(idx)\n",
        "            X1 = np.take(X,idx,axis=-1) \n",
        "            Y1 = np.take(Y,idx,axis=-1)\n",
        "\n",
        "            for q in range(0,len(X1[0]),batch_size):\n",
        "                start, end = q, min(len(X1[0]), q+batch_size)\n",
        "                train_x = X1[:, start:end] \n",
        "                train_y = Y1[:,start:end]\n",
        "                out, dot_prod_z, activations_a = self.forward(train_x)\n",
        "                grads = self.backward(train_x, train_y, dot_prod_z, activations_a) # find the gradients using backward pass\n",
        "                self.update_parameters(grads, lr)\n",
        "            i += 1 # increment epoch count\n",
        "\n",
        "            self.error(X, Y, train_errors)\n",
        "            if Xval is not None:\n",
        "                self.error(Xval, Yval, val_errors)\n",
        "\n",
        "                if val_errors[-1] < v:\n",
        "                    j = 0 # reset patience counter\n",
        "                    v = val_errors[-1] # update best loss\n",
        "                    best_params = self.copy_params() # save params\n",
        "                else:\n",
        "                    j += 1 # increment patience counter\n",
        "\n",
        "            if verbose and i%5 == 0:\n",
        "                log = f\"Epoch {i}..............Loss on train = {train_errors[-1]}\"\n",
        "                if Xval is not None:\n",
        "                    log += f\", Loss on val = {val_errors[-1]}\"\n",
        "                print(log)\n",
        "                \n",
        "            if i >= max_epochs:\n",
        "                break # stop if epoch threshold crossed\n",
        "\n",
        "        if Xval is not None:\n",
        "            if i >= max_epochs and verbose:\n",
        "                print(\"Reached Epoch Cap without convergence....Terminating\")\n",
        "            elif verbose:\n",
        "                print(\"Early Stopping .............. Returning best weights\")\n",
        "\n",
        "            self.weights, self.biases = best_params # reset to best params\n",
        "                    \n",
        "        if verbose:\n",
        "            x = np.arange(1, len(train_errors)+1)\n",
        "            plt.plot(x, train_errors, label=\"Loss on Train\")\n",
        "            if Xval is not None:\n",
        "                plt.plot(x, val_errors, label=\"Loss on Val\")\n",
        "            plt.legend()\n",
        "            plt.title(f\"{loss_func} - Learning Rate = {lr}\")\n",
        "            plt.xlabel(\"Epoch\")\n",
        "            plt.ylabel(\"Loss\")\n",
        "            plt.show()\n",
        "        if Xval is not None:           \n",
        "            return (train_errors, val_errors)\n",
        "        return train_errors\n",
        "        \n",
        "    def predict(self, x):\n",
        "        #Implement the code for prediction \n",
        "        pred,_,_ = self.forward(x)\n",
        "        pred = np.squeeze(pred)\n",
        "        if len(pred.shape) > 1:\n",
        "          return np.argmax(pred, axis=0)\n",
        "        else:\n",
        "          return (pred > 0.5).astype(int)"
      ],
      "execution_count": 107,
      "outputs": []
    },
    {
      "cell_type": "markdown",
      "metadata": {
        "id": "6m9qBqPrifRp"
      },
      "source": [
        "**Creating a MLP (Feed forward NN) model instance for our Binary classification task (sigmoid):**\n",
        "\n",
        "Let's now create a simple feed-forward neural network. \n",
        "\n",
        "* Number of input neurons = 784.\n",
        "* Number of output layer neurons = 1.\n",
        "\n",
        "The number of hidden layers and number of neurons in each hidden layer can be decided by the user."
      ]
    },
    {
      "cell_type": "code",
      "metadata": {
        "id": "5v8Fxtw0-Ca5"
      },
      "source": [
        "#D_in is input dimension\n",
        "#H1 is dimension of first hidden layer \n",
        "#H2 is dimension of second hidden layer\n",
        "#D_out is output dimension.\n",
        "\n",
        "D_in, H1, H2, D_out = 784, 200, 100, 1 #You can add more layers or more outputs if you wish. \n",
        "\n",
        "neurons = [D_in, H1, H2, D_out] # list of number of neurons in the layers sequentially.\n",
        "activation_functions = ['sigmoid','sigmoid','sigmoid'] # activations in each layer (Note: the input layer does not have any activation)\n",
        "nn_bin = Neural_Network(neurons, activation_functions) # There we go, creating our neural network."
      ],
      "execution_count": 67,
      "outputs": []
    },
    {
      "cell_type": "markdown",
      "metadata": {
        "id": "y-BMNzeRs3rC"
      },
      "source": [
        "### Training the model(sigmoid):"
      ]
    },
    {
      "cell_type": "code",
      "metadata": {
        "colab": {
          "base_uri": "https://localhost:8080/",
          "height": 1000
        },
        "id": "6_XFSOBWiep9",
        "outputId": "ff55ef1f-abf5-4cbd-889b-99b9fc61b483"
      },
      "source": [
        "losses = nn_bin.train(X_train_bin, Y_train_bin, batch_size=10, lr=1e-2, max_epochs=200, Xval = X_val_bin, Yval = Y_val_bin)"
      ],
      "execution_count": 68,
      "outputs": [
        {
          "output_type": "stream",
          "name": "stdout",
          "text": [
            "Epoch 5..............Loss on train = 0.03716097353502955, Loss on val = 0.038239939482962906\n",
            "Epoch 10..............Loss on train = 0.024460501233947194, Loss on val = 0.02643735381323547\n",
            "Epoch 15..............Loss on train = 0.019578688482353692, Loss on val = 0.021851069364187806\n",
            "Epoch 20..............Loss on train = 0.01674817785064686, Loss on val = 0.019180413012739112\n",
            "Epoch 25..............Loss on train = 0.014782018249721812, Loss on val = 0.017369022401471246\n",
            "Epoch 30..............Loss on train = 0.01334156983441276, Loss on val = 0.016092271089831935\n",
            "Epoch 35..............Loss on train = 0.012210820125131621, Loss on val = 0.015084725390942362\n",
            "Epoch 40..............Loss on train = 0.011299847425960479, Loss on val = 0.014277788407806857\n",
            "Epoch 45..............Loss on train = 0.010547864778877774, Loss on val = 0.013617043035877435\n",
            "Epoch 50..............Loss on train = 0.00992544148385462, Loss on val = 0.013117427192887983\n",
            "Epoch 55..............Loss on train = 0.0093705576172937, Loss on val = 0.012624827582590951\n",
            "Epoch 60..............Loss on train = 0.008895892697343708, Loss on val = 0.012231940639954503\n",
            "Epoch 65..............Loss on train = 0.008480478599941338, Loss on val = 0.011912250155751217\n",
            "Epoch 70..............Loss on train = 0.008107222724845623, Loss on val = 0.011578650185839336\n",
            "Epoch 75..............Loss on train = 0.007770396653697319, Loss on val = 0.011313071599473725\n",
            "Epoch 80..............Loss on train = 0.007468988107151983, Loss on val = 0.011070921098772026\n",
            "Epoch 85..............Loss on train = 0.0071942487952026835, Loss on val = 0.01085370570890831\n",
            "Epoch 90..............Loss on train = 0.0069411418931883875, Loss on val = 0.010641032336175318\n",
            "Epoch 95..............Loss on train = 0.0067087090810789484, Loss on val = 0.010453845370914396\n",
            "Epoch 100..............Loss on train = 0.0064893497778881325, Loss on val = 0.010287488469774776\n",
            "Epoch 105..............Loss on train = 0.0062880273168480876, Loss on val = 0.010148639498689847\n",
            "Epoch 110..............Loss on train = 0.006096963597652588, Loss on val = 0.009988613384633359\n",
            "Epoch 115..............Loss on train = 0.005916926850153648, Loss on val = 0.009865021832318804\n",
            "Epoch 120..............Loss on train = 0.005749466465445171, Loss on val = 0.009748637562833735\n",
            "Epoch 125..............Loss on train = 0.005587548953363613, Loss on val = 0.009616438200314843\n",
            "Epoch 130..............Loss on train = 0.0054378442472889634, Loss on val = 0.009525472818366345\n",
            "Epoch 135..............Loss on train = 0.005291951241221638, Loss on val = 0.009419649444034013\n",
            "Epoch 140..............Loss on train = 0.005153833170336969, Loss on val = 0.009315733481502312\n",
            "Epoch 145..............Loss on train = 0.005021584659915672, Loss on val = 0.009228471189642103\n",
            "Epoch 150..............Loss on train = 0.004894776209265208, Loss on val = 0.009150421073811803\n",
            "Epoch 155..............Loss on train = 0.004772496357564695, Loss on val = 0.00907368496394857\n",
            "Epoch 160..............Loss on train = 0.004654823796536174, Loss on val = 0.008998859876126091\n",
            "Epoch 165..............Loss on train = 0.004540961143882884, Loss on val = 0.008926225781284639\n",
            "Epoch 170..............Loss on train = 0.00443223468807121, Loss on val = 0.008851340389287176\n",
            "Epoch 175..............Loss on train = 0.0043248039590739785, Loss on val = 0.008793108419585917\n",
            "Epoch 180..............Loss on train = 0.004222128812952742, Loss on val = 0.00873628527628464\n",
            "Epoch 185..............Loss on train = 0.004122186942970866, Loss on val = 0.008675524335864779\n",
            "Epoch 190..............Loss on train = 0.00402626885006803, Loss on val = 0.008613091568125217\n",
            "Epoch 195..............Loss on train = 0.003932354043844837, Loss on val = 0.00856220902452869\n",
            "Epoch 200..............Loss on train = 0.003842075177731777, Loss on val = 0.00851547405179398\n",
            "Reached Epoch Cap without convergence....Terminating\n"
          ]
        },
        {
          "output_type": "display_data",
          "data": {
            "image/png": "[encoded data removed]",
            "text/plain": [
              "<Figure size 432x288 with 1 Axes>"
            ]
          },
          "metadata": {
            "needs_background": "light"
          }
        }
      ]
    },
    {
      "cell_type": "markdown",
      "metadata": {
        "id": "Xcc4-JBuYVys"
      },
      "source": [
        "Q3.(d) Consider an appropriate neural network architecture where each layer has only logistic sig\u0002moidal activation functions. Illustrate the exploding gradient and vanishing gradient problems\n",
        "in this network. Justify the architecture you used, indicate how you checked the exploding gra\u0002dient and vanishing gradient problems, and explain your observations\n",
        "\n",
        "Answer:\n",
        "* For this model, I set the least patience value i.e 5 and contrastingly this graph showed the highest stable region.\n",
        "* Observing the losses after 25 epochs, this model clearly has a vanishing gradient problem. The network's losses continue to decrease but the rate becomes smaller. Note that we aren't changing the learning rate here so the low speed is due to the vanishing gradiennt.\n"
      ]
    },
    {
      "cell_type": "markdown",
      "metadata": {
        "id": "PTL-MvjfM6fg"
      },
      "source": [
        "**Creating a MLP (Feed forward NN) model instance for our Binary classification task (tanh):**"
      ]
    },
    {
      "cell_type": "code",
      "metadata": {
        "id": "UXhuNOqIJUaL"
      },
      "source": [
        "#D_in is input dimension\n",
        "#H1 is dimension of first hidden layer \n",
        "#H2 is dimension of second hidden layer\n",
        "#D_out is output dimension.\n",
        "\n",
        "D_in, H1, H2, D_out = 784, 200, 100, 1 #You can add more layers or more outputs if you wish. \n",
        "\n",
        "neurons = [D_in, H1, H2, D_out] # list of number of neurons in the layers sequentially.\n",
        "activation_functions = ['tanh','tanh','tanh'] # activations in each layer (Note: the input layer does not have any activation)\n",
        "nn_bin1 = Neural_Network(neurons, activation_functions) # There we go, creating our neural network."
      ],
      "execution_count": 91,
      "outputs": []
    },
    {
      "cell_type": "markdown",
      "metadata": {
        "id": "l2QJGiESM0Ot"
      },
      "source": [
        "##Training the model(tanh)"
      ]
    },
    {
      "cell_type": "code",
      "metadata": {
        "colab": {
          "base_uri": "https://localhost:8080/",
          "height": 542
        },
        "id": "PUM6htGsJfh3",
        "outputId": "54d651ff-b0a4-47cc-d0a8-568c3e012be6"
      },
      "source": [
        "losses1 = nn_bin1.train(X_train_bin, Y_train_bin, batch_size=10, lr=1e-2, max_epochs=200, Xval = X_val_bin, Yval = Y_val_bin)"
      ],
      "execution_count": 92,
      "outputs": [
        {
          "output_type": "stream",
          "name": "stdout",
          "text": [
            "Epoch 5..............Loss on train = 0.24395500916085336, Loss on val = 0.250056184289115\n",
            "Epoch 10..............Loss on train = 0.23790107691476078, Loss on val = 0.2504283570087623\n",
            "Epoch 15..............Loss on train = 0.23449132692542535, Loss on val = 0.24858556982329566\n",
            "Epoch 20..............Loss on train = 0.2301740677787362, Loss on val = 0.24728080196486873\n",
            "Epoch 25..............Loss on train = 0.22616129610992536, Loss on val = 0.24501785428767842\n",
            "Epoch 30..............Loss on train = 0.2217754788135416, Loss on val = 0.24464673731342537\n",
            "Epoch 35..............Loss on train = 0.2197403054878466, Loss on val = 0.24381502031578528\n",
            "Epoch 40..............Loss on train = 0.21683064226198678, Loss on val = 0.2440389008330825\n",
            "Epoch 45..............Loss on train = 0.21494971847849959, Loss on val = 0.24388119425844557\n",
            "Epoch 50..............Loss on train = 0.21272697339891536, Loss on val = 0.24232888520822518\n",
            "Epoch 55..............Loss on train = 0.210825427072564, Loss on val = 0.24112272924803596\n",
            "Epoch 60..............Loss on train = 0.20885617126158043, Loss on val = 0.2427336846248555\n",
            "Epoch 65..............Loss on train = 0.20685958502560828, Loss on val = 0.24303245041061614\n",
            "Early Stopping .............. Returning best weights\n"
          ]
        },
        {
          "output_type": "display_data",
          "data": {
            "image/png": "[encoded data removed]",
            "text/plain": [
              "<Figure size 432x288 with 1 Axes>"
            ]
          },
          "metadata": {
            "needs_background": "light"
          }
        }
      ]
    },
    {
      "cell_type": "markdown",
      "metadata": {
        "id": "Mkwvijg6a_gQ"
      },
      "source": [
        ""
      ]
    },
    {
      "cell_type": "markdown",
      "metadata": {
        "id": "hVQECNp0bFdg"
      },
      "source": [
        "Q3.(e) Consider an appropriate neural network architecture where each layer has only tanh activation\n",
        "functions. Illustrate the exploding gradient and vanishing gradient problems in this network.\n",
        "Justify the architecture you used, indicate how you checked the exploding gradient and vanish\u0002ing gradient problems, and explain your observations. [2 marks]\n",
        "\n",
        "\n",
        "Answer:\n",
        "* For this model, I set the patience value to 10 and here, the Train and Validation curve show a different trend\n",
        "* Observing the losses after 20 epochs, the validation curve has stablized around a loss of 0.25 while the Training set continues to show a descent.\n",
        "* We can conclude that, the vanishing gradient problem still prevails in the tanh activation function, looking at the train graph we can also point at exploding gradient problem for tanh.\n"
      ]
    },
    {
      "cell_type": "markdown",
      "metadata": {
        "id": "MtENCIqAQfXs"
      },
      "source": [
        "**Creating a MLP (Feed forward NN) model instance for our Binary classification task (ReLu):**"
      ]
    },
    {
      "cell_type": "code",
      "metadata": {
        "id": "5JP-W0StQov8"
      },
      "source": [
        "#D_in is input dimension\n",
        "#H1 is dimension of first hidden layer \n",
        "#H2 is dimension of second hidden layer\n",
        "#D_out is output dimension.\n",
        "\n",
        "D_in, H1, H2, D_out = 784, 200, 100, 1 #You can add more layers or more outputs if you wish. \n",
        "\n",
        "neurons = [D_in, H1, H2, D_out] # list of number of neurons in the layers sequentially.\n",
        "activation_functions = ['relu','relu','relu'] # activations in each layer (Note: the input layer does not have any activation)\n",
        "nn_bin2 = Neural_Network(neurons, activation_functions) # There we go, creating our neural network."
      ],
      "execution_count": 105,
      "outputs": []
    },
    {
      "cell_type": "markdown",
      "metadata": {
        "id": "7WZKc48UQnUa"
      },
      "source": [
        ""
      ]
    },
    {
      "cell_type": "code",
      "metadata": {
        "colab": {
          "base_uri": "https://localhost:8080/",
          "height": 682
        },
        "id": "6NcmPdH5QoD8",
        "outputId": "b7c9a846-4a63-4d15-f123-2fe5ad3e74c1"
      },
      "source": [
        "losses2 = nn_bin2.train(X_train_bin, Y_train_bin, batch_size=10, lr=1e-2, max_epochs=200, Xval = X_val_bin, Yval = Y_val_bin)"
      ],
      "execution_count": 106,
      "outputs": [
        {
          "output_type": "stream",
          "name": "stdout",
          "text": [
            "Epoch 1..............Loss on train = 0.25063344594594594, Loss on val = 0.2469396369776277\n",
            "Epoch 2..............Loss on train = 0.25063344594594594, Loss on val = 0.2469396369776277\n",
            "Epoch 3..............Loss on train = 0.25063344594594594, Loss on val = 0.2469396369776277\n",
            "Epoch 4..............Loss on train = 0.25063344594594594, Loss on val = 0.2469396369776277\n",
            "Epoch 5..............Loss on train = 0.25063344594594594, Loss on val = 0.2469396369776277\n",
            "Epoch 6..............Loss on train = 0.25063344594594594, Loss on val = 0.2469396369776277\n",
            "Epoch 7..............Loss on train = 0.25063344594594594, Loss on val = 0.2469396369776277\n",
            "Epoch 8..............Loss on train = 0.25063344594594594, Loss on val = 0.2469396369776277\n",
            "Epoch 9..............Loss on train = 0.25063344594594594, Loss on val = 0.2469396369776277\n",
            "Epoch 10..............Loss on train = 0.25063344594594594, Loss on val = 0.2469396369776277\n",
            "Epoch 11..............Loss on train = 0.25063344594594594, Loss on val = 0.2469396369776277\n",
            "Epoch 12..............Loss on train = 0.25063344594594594, Loss on val = 0.2469396369776277\n",
            "Epoch 13..............Loss on train = 0.25063344594594594, Loss on val = 0.2469396369776277\n",
            "Epoch 14..............Loss on train = 0.25063344594594594, Loss on val = 0.2469396369776277\n",
            "Epoch 15..............Loss on train = 0.25063344594594594, Loss on val = 0.2469396369776277\n",
            "Epoch 16..............Loss on train = 0.25063344594594594, Loss on val = 0.2469396369776277\n",
            "Epoch 17..............Loss on train = 0.25063344594594594, Loss on val = 0.2469396369776277\n",
            "Epoch 18..............Loss on train = 0.25063344594594594, Loss on val = 0.2469396369776277\n",
            "Epoch 19..............Loss on train = 0.25063344594594594, Loss on val = 0.2469396369776277\n",
            "Epoch 20..............Loss on train = 0.25063344594594594, Loss on val = 0.2469396369776277\n",
            "Epoch 21..............Loss on train = 0.25063344594594594, Loss on val = 0.2469396369776277\n",
            "Early Stopping .............. Returning best weights\n"
          ]
        },
        {
          "output_type": "display_data",
          "data": {
            "image/png": "[encoded data removed]",
            "text/plain": [
              "<Figure size 432x288 with 1 Axes>"
            ]
          },
          "metadata": {
            "needs_background": "light"
          }
        }
      ]
    },
    {
      "cell_type": "markdown",
      "metadata": {
        "id": "Y8ht8qVFVYhb"
      },
      "source": [
        "##Trying sigmoid at the output layer to see a trend in the loss graph"
      ]
    },
    {
      "cell_type": "code",
      "metadata": {
        "colab": {
          "base_uri": "https://localhost:8080/",
          "height": 682
        },
        "id": "zqy07vT9VNxF",
        "outputId": "a4c0f36b-1ef3-4a42-cc78-8f1792e44e55"
      },
      "source": [
        "#D_in is input dimension\n",
        "#H1 is dimension of first hidden layer \n",
        "#H2 is dimension of second hidden layer\n",
        "#D_out is output dimension.\n",
        "\n",
        "D_in, H1, H2, D_out = 784, 200, 100, 1 #You can add more layers or more outputs if you wish. \n",
        "\n",
        "neurons = [D_in, H1, H2, D_out] # list of number of neurons in the layers sequentially.\n",
        "activation_functions = ['relu','relu','sigmoid'] # activations in each layer (Note: the input layer does not have any activation)\n",
        "nn_bin3 = Neural_Network(neurons, activation_functions) # There we go, creating our neural network.\n",
        "losses3 = nn_bin3.train(X_train_bin, Y_train_bin, batch_size=10, lr=1e-2, max_epochs=200, Xval = X_val_bin, Yval = Y_val_bin)"
      ],
      "execution_count": 109,
      "outputs": [
        {
          "output_type": "stream",
          "name": "stderr",
          "text": [
            "/usr/local/lib/python3.7/dist-packages/ipykernel_launcher.py:32: RuntimeWarning: overflow encountered in exp\n"
          ]
        },
        {
          "output_type": "stream",
          "name": "stdout",
          "text": [
            "Epoch 5..............Loss on train = 0.05566690001472911, Loss on val = 0.057312295302951385\n",
            "Epoch 10..............Loss on train = 0.030309389063857183, Loss on val = 0.03017227469655508\n",
            "Epoch 15..............Loss on train = 0.025810201327234585, Loss on val = 0.024251660450914998\n",
            "Epoch 20..............Loss on train = 0.021199222622928927, Loss on val = 0.022893109842982515\n",
            "Epoch 25..............Loss on train = 0.018717770143063712, Loss on val = 0.020645876699948624\n",
            "Epoch 30..............Loss on train = 0.01540737489655293, Loss on val = 0.01496950729349142\n",
            "Epoch 35..............Loss on train = 0.014095378861556105, Loss on val = 0.013297594706235556\n",
            "Epoch 40..............Loss on train = 0.013233423318166102, Loss on val = 0.01370270743492179\n",
            "Epoch 45..............Loss on train = 0.0129542743791757, Loss on val = 0.012873384611294673\n",
            "Epoch 50..............Loss on train = 0.010768406901888935, Loss on val = 0.01097424704231579\n",
            "Epoch 55..............Loss on train = 0.010317529891969832, Loss on val = 0.010546896358463781\n",
            "Epoch 60..............Loss on train = 0.012940316241860391, Loss on val = 0.012874042674388925\n",
            "Epoch 65..............Loss on train = 0.009653865179384035, Loss on val = 0.008940052544773284\n",
            "Epoch 70..............Loss on train = 0.0114475683237456, Loss on val = 0.011603985305252177\n",
            "Epoch 75..............Loss on train = 0.009288465158313176, Loss on val = 0.00823140940821103\n",
            "Epoch 80..............Loss on train = 0.00902376766698921, Loss on val = 0.008231357112040425\n",
            "Epoch 85..............Loss on train = 0.008264262848669776, Loss on val = 0.008439168490127753\n",
            "Epoch 90..............Loss on train = 0.008285516817977602, Loss on val = 0.008442363034757596\n",
            "Epoch 95..............Loss on train = 0.008921021422110481, Loss on val = 0.008864499816436463\n",
            "Epoch 100..............Loss on train = 0.00892100858646681, Loss on val = 0.008864499841954122\n",
            "Early Stopping .............. Returning best weights\n"
          ]
        },
        {
          "output_type": "display_data",
          "data": {
            "image/png": "[encoded data removed]",
            "text/plain": [
              "<Figure size 432x288 with 1 Axes>"
            ]
          },
          "metadata": {
            "needs_background": "light"
          }
        }
      ]
    },
    {
      "cell_type": "markdown",
      "metadata": {
        "id": "a4CmQrq-dChh"
      },
      "source": [
        "Q3.(f) Consider an appropriate neural network architecture where each layer has only ReLU activation\n",
        "functions. Illustrate the exploding gradient and vanishing gradient problems in this network.\n",
        "Justify the architecture you used, indicate how you checked the exploding gradient and vanish\u0002ing gradient problems, and explain your observations. [2 marks]\n",
        "\n",
        "\n",
        "Answer:\n",
        "* Setting all the activation functions as ReLu, we don't see a descent in the gradients, so I have used sigmoid as the output activation.\n",
        "* For this model, I set the patience value high to 20 and here, the Train and Validation curve show the closest trend.\n",
        "* Observing the losses after 20 epochs, the loss is minimized pretty much and the higher patience is the reason for a long tail.\n",
        "* We can conclude that, ReLu does not have a vanishing gradient problem, but the spikes suggest it might have an exploding gradient problem."
      ]
    },
    {
      "cell_type": "markdown",
      "metadata": {
        "id": "HLXWLxzOezGt"
      },
      "source": [
        "Q3.(g) Among the three networks considered in questions 3d, 3e, 3f, describe which networks were\n",
        "more prone to the vanishing gradient issue and which networks were more prone to the explod\u0002ing gradient issue. Use appropriate justifications for your observations involving the quantities\n",
        "used during backpropagation. [3 marks]\n",
        "\n",
        "Answer:\n",
        "* For observations in the backpropogation, I have varied the intervals to show the losses and the patience values to best capture the trends.\n",
        "* A constant learning rate suggests that the change in weights(eventually at loss) arises from the gradients. (Chain Rule)\n",
        "* From the observations, sigmoid and tanh networks were more prone to the vanishing gradient problem the reason being, the loss graphs stabilizing for both of them (Val curve for tanh).\n",
        "* This can be justified by the nature of these functions, at higher values they have a low value of slope, causing a slow rate of weight updates.\n",
        "* ReLu on the other hand, is prone to exploding gradient this is justified by the spikes in the graph. The gradient being higher in value than both sigmoid and tanh is the reason for this."
      ]
    },
    {
      "cell_type": "markdown",
      "metadata": {
        "id": "eBYaTMAjsx17"
      },
      "source": [
        "###Testing the model: \n",
        "Now it's the time to test our model:"
      ]
    },
    {
      "cell_type": "code",
      "metadata": {
        "colab": {
          "base_uri": "https://localhost:8080/"
        },
        "id": "ADCumtiUiIdY",
        "outputId": "3498f181-97e0-49d5-ce51-db235eea82ca"
      },
      "source": [
        "print(\"First 10 outputs:\", Y_test_bin[:10])\n",
        "preds = nn_bin.predict(X_test_bin[:, :10])\n",
        "print(\"First 10 predictions:\", preds)"
      ],
      "execution_count": null,
      "outputs": [
        {
          "name": "stdout",
          "output_type": "stream",
          "text": [
            "First 10 outputs: [0 0 1 0 1 1 0 0 1 1]\n",
            "First 10 predictions: [0 0 1 0 1 1 0 0 1 1]\n"
          ]
        }
      ]
    },
    {
      "cell_type": "markdown",
      "metadata": {
        "id": "mpmq-iTVukjd"
      },
      "source": [
        "Now it's time to check the accuracy of our model on the entire dataset:"
      ]
    },
    {
      "cell_type": "code",
      "metadata": {
        "id": "BPhezdmQurHQ"
      },
      "source": [
        "Y_pred_bin = nn_bin.predict(X_test_bin)"
      ],
      "execution_count": null,
      "outputs": []
    },
    {
      "cell_type": "markdown",
      "metadata": {
        "id": "z6km6votvImL"
      },
      "source": [
        "###Checking the accuracy:\n",
        "You can write a simple code manually to calculate the accuracy of model by counting the number of correct predictions. However there are tools available to make it easier. "
      ]
    },
    {
      "cell_type": "code",
      "metadata": {
        "colab": {
          "base_uri": "https://localhost:8080/"
        },
        "id": "P94_7ggVvdU9",
        "outputId": "93869b04-ba9e-49fa-fe78-60c6061c8703"
      },
      "source": [
        "bin_score = (Y_pred_bin == Y_test_bin).mean()\n",
        "print(\"Model accuracy =\", round(bin_score*100,2),\"%\")"
      ],
      "execution_count": null,
      "outputs": [
        {
          "name": "stdout",
          "output_type": "stream",
          "text": [
            "Model accuracy = 98.04 %\n"
          ]
        }
      ]
    },
    {
      "cell_type": "markdown",
      "metadata": {
        "id": "WLy5ZHxPZr1f"
      },
      "source": [
        "###Confusion Matrix: \n",
        "As accuracy doesn't tell the whole story, let us see the entire picture through the confusion matrix. "
      ]
    },
    {
      "cell_type": "code",
      "metadata": {
        "colab": {
          "base_uri": "https://localhost:8080/",
          "height": 331
        },
        "id": "lHmC7pxla69v",
        "outputId": "dd57d6d8-aef6-44c1-f4b5-2ec72d12e9cd"
      },
      "source": [
        "from sklearn.metrics import confusion_matrix, ConfusionMatrixDisplay\n",
        "\n",
        "matrix_bin = confusion_matrix(Y_test_bin, Y_pred_bin)\n",
        "ConfusionMatrixDisplay(matrix_bin, [0,6]).plot(cmap=\"Blues\", values_format='')\n",
        "plt.show()\n",
        "print(\"\\nLabel totals in dataset:\\n\", list(zip([0, 6], np.sum(matrix_bin, axis=-1))))"
      ],
      "execution_count": null,
      "outputs": [
        {
          "data": {
            "image/png": "[encoded data removed]",
            "text/plain": [
              "<Figure size 432x288 with 2 Axes>"
            ]
          },
          "metadata": {},
          "output_type": "display_data"
        },
        {
          "name": "stdout",
          "output_type": "stream",
          "text": [
            "\n",
            "Label totals in dataset:\n",
            " [(0, 980), (6, 958)]\n"
          ]
        }
      ]
    },
    {
      "cell_type": "markdown",
      "metadata": {
        "id": "Cf-iat09wTqd"
      },
      "source": [
        "Looks great! We further can improve the results by increasing the number of epochs, changing the hidden layer format and other hyperparameters. This process is called hyperparameter tuning, which you can do manually by trial and error or by using some available tools. We can also adapt learning rate scheduling methods.\n",
        "\n",
        "Now let's head towards the multiclass classification problem."
      ]
    },
    {
      "cell_type": "markdown",
      "metadata": {
        "id": "rHsgVnoe8RJ2"
      },
      "source": [
        "<br><br><br><br>\n",
        "\n",
        "###**Multi-class Classification problem:**\n",
        "We will do the same thing, with multiple classes this time. We will consider the digits **'1', '5', '7',** and **'9'**."
      ]
    },
    {
      "cell_type": "code",
      "metadata": {
        "colab": {
          "base_uri": "https://localhost:8080/"
        },
        "id": "cjGEzlGk8Pzn",
        "outputId": "0ab98d69-e45e-48ab-a951-d0a3808c5920"
      },
      "source": [
        "train_idx = np.where((Y_train==1) | (Y_train==5) | (Y_train==7) | (Y_train==9))\n",
        "X_train_multiclass = X_normalized_train[train_idx]\n",
        "Y_train_multiclass = Y_train[train_idx]\n",
        "\n",
        "test_idx = np.where((Y_test==1) | (Y_test==5) | (Y_test==7) | (Y_test==9))\n",
        "X_test_multiclass = X_normalized_test[test_idx]\n",
        "Y_test_multiclass = Y_test[test_idx]\n",
        "\n",
        "print(f'Trainset shapes - X: {X_train_multiclass.shape}, Y: {Y_train_multiclass.shape}')\n",
        "print(f'Testset shapes - X: {X_test_multiclass.shape}, Y: {Y_test_multiclass.shape}')\n",
        "\n",
        "print(f'\\nTrain statistics - 1: {(Y_train_multiclass==1).sum()}, 5: {(Y_train_multiclass==5).sum()}, 7: {(Y_train_multiclass==7).sum()}, 9: {(Y_train_multiclass==9).sum()}')\n",
        "print(f'Test statistics - 1: {(Y_test_multiclass==1).sum()}, 5: {(Y_test_multiclass==5).sum()}, 7: {(Y_test_multiclass==7).sum()}, 9: {(Y_test_multiclass==9).sum()}')"
      ],
      "execution_count": null,
      "outputs": [
        {
          "name": "stdout",
          "output_type": "stream",
          "text": [
            "Trainset shapes - X: (24377, 784), Y: (24377,)\n",
            "Testset shapes - X: (4064, 784), Y: (4064,)\n",
            "\n",
            "Train statistics - 1: 6742, 5: 5421, 7: 6265, 9: 5949\n",
            "Test statistics - 1: 1135, 5: 892, 7: 1028, 9: 1009\n"
          ]
        }
      ]
    },
    {
      "cell_type": "code",
      "metadata": {
        "id": "7RGQXyMwLtX6"
      },
      "source": [
        "# Setting label correct labels for multi class classification\n",
        "\n",
        "Y_train_multiclass[Y_train_multiclass==1] = 0 \n",
        "Y_test_multiclass[Y_test_multiclass==1] = 0 \n",
        "\n",
        "Y_train_multiclass[Y_train_multiclass==5] = 1 \n",
        "Y_test_multiclass[Y_test_multiclass==5] = 1 \n",
        "\n",
        "Y_train_multiclass[Y_train_multiclass==7] = 2 \n",
        "Y_test_multiclass[Y_test_multiclass==7] = 2 \n",
        "\n",
        "Y_train_multiclass[Y_train_multiclass==9] = 3 \n",
        "Y_test_multiclass[Y_test_multiclass==9] = 3 "
      ],
      "execution_count": null,
      "outputs": []
    },
    {
      "cell_type": "code",
      "metadata": {
        "id": "_sAaro0xAP8X"
      },
      "source": [
        "X_train_multiclass, X_val_multiclass, Y_train_multiclass, Y_val_multiclass = train_test_split(X_train_multiclass, Y_train_multiclass, test_size=0.2, random_state = 1)"
      ],
      "execution_count": null,
      "outputs": []
    },
    {
      "cell_type": "code",
      "metadata": {
        "colab": {
          "base_uri": "https://localhost:8080/"
        },
        "id": "JLTugI_oAP8X",
        "outputId": "dff22a36-c1e2-4d68-c1b1-822f221b200e"
      },
      "source": [
        "print(f'Trainset shapes - X: {X_train_multiclass.shape}, Y: {Y_train_multiclass.shape}')\n",
        "print(f'Valset shapes - X: {X_val_multiclass.shape}, Y: {Y_val_multiclass.shape}')\n",
        "\n",
        "print(f'\\nTrain statistics - 1: {(Y_train_multiclass==0).sum()}, 5: {(Y_train_multiclass==1).sum()}, 7: {(Y_train_multiclass==2).sum()}, 9: {(Y_train_multiclass==3).sum()}')\n",
        "print(f'Val statistics - 1: {(Y_val_multiclass==0).sum()}, 5: {(Y_val_multiclass==1).sum()}, 7: {(Y_val_multiclass==2).sum()}, 9: {(Y_val_multiclass==3).sum()}')"
      ],
      "execution_count": null,
      "outputs": [
        {
          "name": "stdout",
          "output_type": "stream",
          "text": [
            "Trainset shapes - X: (19501, 784), Y: (19501,)\n",
            "Valset shapes - X: (4876, 784), Y: (4876,)\n",
            "\n",
            "Train statistics - 1: 5353, 5: 4384, 7: 5002, 9: 4762\n",
            "Val statistics - 1: 1389, 5: 1037, 7: 1263, 9: 1187\n"
          ]
        }
      ]
    },
    {
      "cell_type": "code",
      "metadata": {
        "colab": {
          "base_uri": "https://localhost:8080/"
        },
        "id": "hBl-CbaVAP8X",
        "outputId": "e0946cdc-ef9f-4954-d31f-d46f5cd39d1b"
      },
      "source": [
        "# Traspose feature matrices as per our model requirement\n",
        "\n",
        "X_train_multiclass, X_val_multiclass, X_test_multiclass = X_train_multiclass.T, X_val_multiclass.T, X_test_multiclass.T\n",
        "print(f'Shapes - {X_train_multiclass.shape, X_val_multiclass.shape, X_test_multiclass.shape}')"
      ],
      "execution_count": null,
      "outputs": [
        {
          "name": "stdout",
          "output_type": "stream",
          "text": [
            "Shapes - ((784, 19501), (784, 4876), (784, 4064))\n"
          ]
        }
      ]
    },
    {
      "cell_type": "code",
      "metadata": {
        "colab": {
          "background_save": true,
          "base_uri": "https://localhost:8080/"
        },
        "id": "yTqODo1bFsK6",
        "outputId": "14cabf3a-84a6-460a-95c5-c8e1f59a921b"
      },
      "source": [
        "# Creating model instance\n",
        "\n",
        "D_in, H1, H2, D_out = 784, 200, 100, 4 # As there are 4 classes\n",
        "neurons = [D_in, H1, H2, D_out]\n",
        "activation_functions = ['sigmoid','sigmoid','softmax'] # activations in each layer (Note: the input layer does not have any activation)\n",
        "nn_multiclass = Neural_Network(neurons, activation_functions)\n",
        "losses = nn_multiclass.train(X_train_multiclass, Y_train_multiclass, batch_size=10, lr=1e-2, max_epochs=100, n_classes = 4,\n",
        "                             onehotencoded=True, loss_func='CE', Xval = X_val_multiclass, Yval = Y_val_multiclass)"
      ],
      "execution_count": null,
      "outputs": [
        {
          "name": "stdout",
          "output_type": "stream",
          "text": [
            "Epoch 5..............Loss on train = 0.19872723105389653, Loss on val = 0.2586517458101861\n",
            "Epoch 10..............Loss on train = 0.14157001945268868, Loss on val = 0.2081694474407669\n",
            "Epoch 15..............Loss on train = 0.11244442914029225, Loss on val = 0.18834962853430576\n",
            "Epoch 20..............Loss on train = 0.09464269015400432, Loss on val = 0.17738348893405562\n",
            "Epoch 25..............Loss on train = 0.08125909045320052, Loss on val = 0.16742972181942098\n",
            "Epoch 30..............Loss on train = 0.07278057628506081, Loss on val = 0.16460035991492197\n",
            "Epoch 35..............Loss on train = 0.06320198523634658, Loss on val = 0.15537610965656218\n",
            "Epoch 40..............Loss on train = 0.05693379479746201, Loss on val = 0.15438683800232972\n",
            "Epoch 45..............Loss on train = 0.05071865271918986, Loss on val = 0.14908594305474077\n",
            "Epoch 50..............Loss on train = 0.04580163466924893, Loss on val = 0.14618085126558603\n",
            "Epoch 55..............Loss on train = 0.041814124240274385, Loss on val = 0.14386746417603916\n",
            "Epoch 60..............Loss on train = 0.03799347817879768, Loss on val = 0.14138546098223764\n",
            "Epoch 65..............Loss on train = 0.034656809698824065, Loss on val = 0.13956245486254454\n",
            "Epoch 70..............Loss on train = 0.03164992142340417, Loss on val = 0.1386871123384092\n",
            "Epoch 75..............Loss on train = 0.02904368134916974, Loss on val = 0.13759378733960317\n",
            "Epoch 80..............Loss on train = 0.026881649696435726, Loss on val = 0.13563648877758058\n",
            "Epoch 85..............Loss on train = 0.024819651457740295, Loss on val = 0.1373223359805792\n",
            "Epoch 90..............Loss on train = 0.022807726080663962, Loss on val = 0.13646634166491647\n",
            "Epoch 95..............Loss on train = 0.020904835365243107, Loss on val = 0.13496641578718716\n",
            "Epoch 100..............Loss on train = 0.019546523761489226, Loss on val = 0.13588130650361427\n",
            "Reached Epoch Cap without convergence....Terminating\n"
          ]
        },
        {
          "data": {
            "image/png": "[encoded data removed]",
            "text/plain": [
              "<Figure size 432x288 with 1 Axes>"
            ]
          },
          "metadata": {},
          "output_type": "display_data"
        }
      ]
    },
    {
      "cell_type": "code",
      "metadata": {
        "colab": {
          "background_save": true
        },
        "id": "b71-QzasFsK7",
        "outputId": "881eb572-295d-46f4-8545-23320b696d67"
      },
      "source": [
        "# checking first 10 predictions\n",
        "\n",
        "print(\"First 10 outputs:\", Y_test_multiclass[:10])\n",
        "preds = nn_multiclass.predict(X_test_multiclass[:, :10])\n",
        "print(\"First 10 predictions:\", preds)"
      ],
      "execution_count": null,
      "outputs": [
        {
          "name": "stdout",
          "output_type": "stream",
          "text": [
            "First 10 outputs: [2 0 0 3 1 3 3 0 1 3]\n",
            "First 10 predictions: [2 0 0 3 1 3 3 0 1 3]\n"
          ]
        }
      ]
    },
    {
      "cell_type": "markdown",
      "metadata": {
        "id": "XeODlqxumelo"
      },
      "source": [
        "##Model accuracy:\n"
      ]
    },
    {
      "cell_type": "code",
      "metadata": {
        "colab": {
          "background_save": true
        },
        "id": "2YQWJ1FFFsK9",
        "outputId": "e47f3f11-29ab-4bdd-9aec-2298352d81c4"
      },
      "source": [
        "Y_pred_multiclass = nn_multiclass.predict(X_test_multiclass)\n",
        "multiclass_score = (Y_pred_multiclass == Y_test_multiclass).mean()\n",
        "print(\"Model accuracy =\", round(multiclass_score*100,2),\"%\")"
      ],
      "execution_count": null,
      "outputs": [
        {
          "name": "stdout",
          "output_type": "stream",
          "text": [
            "Model accuracy = 96.85 %\n"
          ]
        }
      ]
    },
    {
      "cell_type": "markdown",
      "metadata": {
        "id": "CuqKDpwjmhZi"
      },
      "source": [
        "##Confusion matrix:"
      ]
    },
    {
      "cell_type": "code",
      "metadata": {
        "colab": {
          "background_save": true
        },
        "id": "UizUqH9_jgGL",
        "outputId": "a28c43de-b22d-4ae9-cc4d-05fb3774f259"
      },
      "source": [
        "matrix_multiclass = confusion_matrix(Y_test_multiclass, Y_pred_multiclass)\n",
        "ConfusionMatrixDisplay(matrix_multiclass, [1,5,9,7]).plot(cmap=\"Blues\", values_format='')\n",
        "plt.show()\n",
        "print(\"\\nLabel totals in dataset:\\n\", list(zip([1,5,9,7], np.sum(matrix_multiclass, axis=-1))))"
      ],
      "execution_count": null,
      "outputs": [
        {
          "data": {
            "image/png": "[encoded data removed]",
            "text/plain": [
              "<Figure size 432x288 with 2 Axes>"
            ]
          },
          "metadata": {},
          "output_type": "display_data"
        },
        {
          "name": "stdout",
          "output_type": "stream",
          "text": [
            "\n",
            "Label totals in dataset:\n",
            " [(1, 1135), (5, 892), (9, 1028), (7, 1009)]\n"
          ]
        }
      ]
    },
    {
      "cell_type": "markdown",
      "metadata": {
        "id": "LUfSNE080L_j"
      },
      "source": [
        "<br> <br> <br> <br> \n",
        "\n",
        "### Learning Rate Schedulers"
      ]
    },
    {
      "cell_type": "code",
      "metadata": {
        "colab": {
          "background_save": true
        },
        "id": "ZI6o3qR5vE1u"
      },
      "source": [
        "# Example schedulers\n",
        "\n",
        "def s1(epoch):\n",
        "    return 1/(epoch+1)\n",
        "\n",
        "def timebased(epoch, initial_lr=0.1, decay=0.1):\n",
        "    return initial_lr/(1+decay*epoch)\n",
        "\n",
        "def dropbased(epoch, initial_lr=0.1, epoch_drop=10, drop_rate=0.5):\n",
        "    return initial_lr* drop_rate**(epoch//epoch_drop)\n",
        "    \n",
        "def exponential(epoch, initial_lr=0.1, k=0.1):\n",
        "    return initial_lr*np.exp(-k*epoch)\n",
        "\n",
        "example_schedulers = {'s1': s1, 'timebased': timebased, 'dropbased': dropbased, 'exponential': exponential}\n",
        "\n",
        "# example_schedulers = {\n",
        "#     's1': lambda epoch: (1/(epoch+1)),\n",
        "#     'timebased': lambda epoch, initial_lr=0.1, decay=0.1: (initial_lr/(1+decay*epoch)),\n",
        "#     'dropbased': lambda epoch, initial_lr=0.1, epoch_drop=10, drop_rate=0.5: (initial_lr* drop_rate**(epoch//epoch_drop)),\n",
        "#     'exponential': lambda epoch, initial_lr=0.1, k=0.1: (initial_lr*np.exp(-k*epoch)),\n",
        "# }"
      ],
      "execution_count": null,
      "outputs": []
    },
    {
      "cell_type": "code",
      "metadata": {
        "colab": {
          "background_save": true
        },
        "id": "BgdWLUsJvVzi",
        "outputId": "9dbe7c27-2fea-4d8d-e0a1-cb6bc087bacd"
      },
      "source": [
        "for k, schedule in example_schedulers.items():\n",
        "  x = np.arange(0, 101)\n",
        "  y = np.vectorize(schedule)(x)\n",
        "  plt.plot(x, y, label=k)\n",
        "\n",
        "plt.legend()\n",
        "plt.show()"
      ],
      "execution_count": null,
      "outputs": [
        {
          "data": {
            "image/png": "[encoded data removed]",
            "text/plain": [
              "<Figure size 432x288 with 1 Axes>"
            ]
          },
          "metadata": {},
          "output_type": "display_data"
        }
      ]
    },
    {
      "cell_type": "code",
      "metadata": {
        "colab": {
          "background_save": true
        },
        "id": "OSi3AFkvvgEe",
        "outputId": "5e1e6ba6-a145-4ec9-b345-3766230fa465"
      },
      "source": [
        "# Just last three\n",
        "\n",
        "for k, schedule in list(example_schedulers.items())[1:]:\n",
        "  x = np.arange(0, 101)\n",
        "  y = np.vectorize(schedule)(x)\n",
        "  plt.plot(x, y, label=k)\n",
        "\n",
        "plt.legend()\n",
        "plt.show()"
      ],
      "execution_count": null,
      "outputs": [
        {
          "data": {
            "image/png": "[encoded data removed]",
            "text/plain": [
              "<Figure size 432x288 with 1 Axes>"
            ]
          },
          "metadata": {},
          "output_type": "display_data"
        }
      ]
    },
    {
      "cell_type": "code",
      "metadata": {
        "colab": {
          "background_save": true
        },
        "id": "lDz3W6OQwRRO",
        "outputId": "b3ab2b2b-f7cf-4417-c260-9b6bb40c98e0"
      },
      "source": [
        "def get_lr(lr):\n",
        "  if isinstance(lr, (float, int)): # constant lr arg is passed to train\n",
        "    return lambda x: lr # we return a function object which returns the same lr at every epoch\n",
        "  elif callable(lr): # function lr arg is passed to train\n",
        "    return lr # the function is then used to get lr for a particular epoch\n",
        "  else:\n",
        "    raise ValueError('param lr can only be a number or a scheduler function')\n",
        "    \n",
        "print(get_lr(1e-3)(5))\n",
        "for k, schedule in example_schedulers.items():\n",
        "  print(f'Scheduler {k}: lr = {get_lr(schedule)(5)} for 5th epoch')"
      ],
      "execution_count": null,
      "outputs": [
        {
          "name": "stdout",
          "output_type": "stream",
          "text": [
            "0.001\n",
            "Scheduler s1: lr = 0.16666666666666666 for 5th epoch\n",
            "Scheduler timebased: lr = 0.06666666666666667 for 5th epoch\n",
            "Scheduler dropbased: lr = 0.1 for 5th epoch\n",
            "Scheduler exponential: lr = 0.06065306597126335 for 5th epoch\n"
          ]
        }
      ]
    },
    {
      "cell_type": "code",
      "metadata": {
        "colab": {
          "base_uri": "https://localhost:8080/",
          "height": 434
        },
        "id": "0gkBWy6e2KNP",
        "outputId": "27c1642a-56d5-4834-c2a9-cb016a147408"
      },
      "source": [
        "D_in, H1, H2, D_out = 784, 200, 100, 1 #You can add more layers or more outputs if you wish. \n",
        "\n",
        "neurons = [D_in, H1, H2, D_out] # list of number of neurons in the layers sequentially.\n",
        "activation_functions = ['relu','relu','sigmoid'] # activations in each layer (Note: the input layer does not have any activation)\n",
        "nn_bin2 = Neural_Network(neurons, activation_functions) # There we go, creating our neural network.\n",
        "losses = nn_bin2.train(X_train_bin, Y_train_bin, batch_size=10, lr=example_schedulers['timebased'],\n",
        "                      max_epochs=50, Xval = X_val_bin, Yval = Y_val_bin)"
      ],
      "execution_count": null,
      "outputs": [
        {
          "output_type": "stream",
          "text": [
            "/usr/local/lib/python3.7/dist-packages/ipykernel_launcher.py:32: RuntimeWarning: overflow encountered in exp\n"
          ],
          "name": "stderr"
        },
        {
          "output_type": "stream",
          "text": [
            "Epoch 5..............Loss on train = 0.010471404085629906, Loss on val = 0.010758421895397318\n",
            "Epoch 10..............Loss on train = 0.008715380419610647, Loss on val = 0.009341234274035451\n",
            "Epoch 15..............Loss on train = 0.010346272563243374, Loss on val = 0.010764035457756468\n",
            "Epoch 20..............Loss on train = 0.009592870529917646, Loss on val = 0.010964631612692477\n",
            "Epoch 25..............Loss on train = 0.007273586169794938, Loss on val = 0.006119583181806939\n",
            "Epoch 30..............Loss on train = 0.006492821147202858, Loss on val = 0.007814559237052739\n",
            "Early Stopping .............. Returning best weights\n"
          ],
          "name": "stdout"
        },
        {
          "output_type": "display_data",
          "data": {
            "image/png": "[encoded data removed]",
            "text/plain": [
              "<Figure size 432x288 with 1 Axes>"
            ]
          },
          "metadata": {
            "needs_background": "light"
          }
        }
      ]
    },
    {
      "cell_type": "code",
      "metadata": {
        "colab": {
          "base_uri": "https://localhost:8080/"
        },
        "id": "Ogn7x_lL5TLz",
        "outputId": "137fc07d-4171-4c88-955b-25759be1dfcf"
      },
      "source": [
        "# Testing\n",
        "\n",
        "Y_pred_bin2 = nn_bin2.predict(X_test_bin)\n",
        "bin2_score = (Y_pred_bin2 == Y_test_bin).mean()\n",
        "print(\"Model accuracy =\", round(bin2_score*100,2),\"%\")"
      ],
      "execution_count": null,
      "outputs": [
        {
          "output_type": "stream",
          "text": [
            "Model accuracy = 98.4 %\n"
          ],
          "name": "stdout"
        },
        {
          "output_type": "stream",
          "text": [
            "/usr/local/lib/python3.7/dist-packages/ipykernel_launcher.py:32: RuntimeWarning: overflow encountered in exp\n"
          ],
          "name": "stderr"
        }
      ]
    }
  ]
}